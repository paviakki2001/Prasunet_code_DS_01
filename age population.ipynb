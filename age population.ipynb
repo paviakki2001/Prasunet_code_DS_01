{
 "cells": [
  {
   "cell_type": "code",
   "execution_count": 3,
   "id": "d530fd36",
   "metadata": {},
   "outputs": [
    {
     "data": {
      "text/html": [
       "<div>\n",
       "<style scoped>\n",
       "    .dataframe tbody tr th:only-of-type {\n",
       "        vertical-align: middle;\n",
       "    }\n",
       "\n",
       "    .dataframe tbody tr th {\n",
       "        vertical-align: top;\n",
       "    }\n",
       "\n",
       "    .dataframe thead th {\n",
       "        text-align: right;\n",
       "    }\n",
       "</style>\n",
       "<table border=\"1\" class=\"dataframe\">\n",
       "  <thead>\n",
       "    <tr style=\"text-align: right;\">\n",
       "      <th></th>\n",
       "      <th>Age Group</th>\n",
       "      <th>Population (Male)</th>\n",
       "    </tr>\n",
       "  </thead>\n",
       "  <tbody>\n",
       "    <tr>\n",
       "      <th>0</th>\n",
       "      <td>Under 5 years</td>\n",
       "      <td>59</td>\n",
       "    </tr>\n",
       "    <tr>\n",
       "      <th>1</th>\n",
       "      <td>5 to 9 years</td>\n",
       "      <td>61</td>\n",
       "    </tr>\n",
       "    <tr>\n",
       "      <th>2</th>\n",
       "      <td>10 to 14 years</td>\n",
       "      <td>90</td>\n",
       "    </tr>\n",
       "    <tr>\n",
       "      <th>3</th>\n",
       "      <td>15 to 19 years</td>\n",
       "      <td>46</td>\n",
       "    </tr>\n",
       "    <tr>\n",
       "      <th>4</th>\n",
       "      <td>20 to 24 years</td>\n",
       "      <td>124</td>\n",
       "    </tr>\n",
       "  </tbody>\n",
       "</table>\n",
       "</div>"
      ],
      "text/plain": [
       "        Age Group  Population (Male)\n",
       "0   Under 5 years                 59\n",
       "1    5 to 9 years                 61\n",
       "2  10 to 14 years                 90\n",
       "3  15 to 19 years                 46\n",
       "4  20 to 24 years                124"
      ]
     },
     "execution_count": 3,
     "metadata": {},
     "output_type": "execute_result"
    }
   ],
   "source": [
    "import pandas as pd\n",
    "dataset=pd.read_csv(r\"C:\\Users\\91936\\OneDrive\\Desktop\\data for new pro.csv\")\n",
    "dataset.head()"
   ]
  },
  {
   "cell_type": "code",
   "execution_count": 3,
   "id": "4e14aa26",
   "metadata": {},
   "outputs": [
    {
     "name": "stdout",
     "output_type": "stream",
     "text": [
      "        Age Group  Population (Male)\n",
      "0   Under 5 years                 59\n",
      "1    5 to 9 years                 61\n",
      "2  10 to 14 years                 90\n",
      "3  15 to 19 years                 46\n",
      "4  20 to 24 years                124\n"
     ]
    },
    {
     "data": {
      "image/png": "[encoded data removed]",
      "text/plain": [
       "<Figure size 432x288 with 1 Axes>"
      ]
     },
     "metadata": {
      "needs_background": "light"
     },
     "output_type": "display_data"
    }
   ],
   "source": [
    "import matplotlib.pyplot as plt\n",
    "import pandas as pd\n",
    "\n",
    "# Reading the CSV file\n",
    "dataset = pd.read_csv(r\"C:\\Users\\91936\\OneDrive\\Desktop\\data for new pro.csv\")\n",
    "\n",
    "# Displaying the first few rows of the dataset\n",
    "print(dataset.head())\n",
    "\n",
    "# Initializing lists for age groups and male population\n",
    "age_group = []\n",
    "population_male = []\n",
    "\n",
    "# Loop through the dataset and extract age group and population male\n",
    "for index, row in dataset.iterrows():\n",
    "    age_group.append(row[0])       # Assuming the first column is age group\n",
    "    population_male.append(row[1]) # Assuming the second column is population male\n",
    "\n",
    "# Plotting the data as a bar graph\n",
    "plt.bar(age_group, population_male, align='center', alpha=0.5, color='b')\n",
    "plt.xlabel('Age Group', fontsize=18)\n",
    "plt.ylabel('Population Male', fontsize=16)\n",
    "plt.title('Population Distribution by Age Group')\n",
    "plt.xticks(rotation=45)  # Rotate x-axis labels for better visibility\n",
    "plt.tight_layout()       # Ensure labels are not cut off\n",
    "plt.show()\n"
   ]
  },
  {
   "cell_type": "code",
   "execution_count": null,
   "id": "4e7d2e0e",
   "metadata": {},
   "outputs": [],
   "source": []
  }
 ],
 "metadata": {
  "kernelspec": {
   "display_name": "Python 3",
   "language": "python",
   "name": "python3"
  },
  "language_info": {
   "codemirror_mode": {
    "name": "ipython",
    "version": 3
   },
   "file_extension": ".py",
   "mimetype": "text/x-python",
   "name": "python",
   "nbconvert_exporter": "python",
   "pygments_lexer": "ipython3",
   "version": "3.8.8"
  }
 },
 "nbformat": 4,
 "nbformat_minor": 5
}
